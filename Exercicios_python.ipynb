{
  "cells": [
    {
      "cell_type": "markdown",
      "source": [
        "# Exercícios de Fixação do Aprendizado sobre a linguagem **Python** **negrito**:"
      ],
      "metadata": {
        "id": "ejXgdZLu-yGI"
      }
    },
    {
      "cell_type": "markdown",
      "source": [
        "Exercício 1: Olá, Mundo!\n",
        "Escreva um programa que exiba a mensagem \"Olá, Mundo!\" na tela.\n"
      ],
      "metadata": {
        "id": "7UnqNZ_Q_NiJ"
      }
    },
    {
      "cell_type": "code",
      "source": [
        "print(\"Olá, Mundo!\")"
      ],
      "metadata": {
        "colab": {
          "base_uri": "https://localhost:8080/"
        },
        "id": "PpgRGeNH_R1P",
        "outputId": "777f5184-2970-42e9-f3ac-a03ac0244b6d"
      },
      "execution_count": 1,
      "outputs": [
        {
          "output_type": "stream",
          "name": "stdout",
          "text": [
            "Olá, Mundo!\n"
          ]
        }
      ]
    },
    {
      "cell_type": "markdown",
      "source": [
        "Exercício 2: Soma de Dois Números\n",
        "Peça ao usuário para inserir dois números e exiba a soma deles.\n"
      ],
      "metadata": {
        "id": "mtcBTrxe_SzA"
      }
    },
    {
      "cell_type": "code",
      "source": [
        "num1 = float(input(\"Digite o primeiro número: \"))\n",
        "num2 = float(input(\"Digite o segundo número: \"))\n",
        "soma = num1 + num2\n",
        "print(\"A soma dos números é:\", soma)"
      ],
      "metadata": {
        "colab": {
          "base_uri": "https://localhost:8080/"
        },
        "id": "pGaU3ovM_ZuJ",
        "outputId": "97da5700-5daa-4c26-c619-c8ef912b76df"
      },
      "execution_count": 2,
      "outputs": [
        {
          "output_type": "stream",
          "name": "stdout",
          "text": [
            "Digite o primeiro número: 3\n",
            "Digite o segundo número: 5\n",
            "A soma dos números é: 8.0\n"
          ]
        }
      ]
    },
    {
      "cell_type": "markdown",
      "source": [
        "Exercício 3: Par ou Ímpar\n",
        "Peça ao usuário para inserir um número e informe se ele é par ou ímpar.\n"
      ],
      "metadata": {
        "id": "tWkqdtSQ_bBx"
      }
    },
    {
      "cell_type": "code",
      "source": [
        "numero = int(input(\"Digite um número: \"))\n",
        "if numero % 2 == 0:\n",
        "    print(\"O número é par.\")\n",
        "else:\n",
        "    print(\"O número é ímpar.\")"
      ],
      "metadata": {
        "colab": {
          "base_uri": "https://localhost:8080/"
        },
        "id": "NJ-rOa2x_bew",
        "outputId": "1507517e-56d7-4599-b513-eab27ce9d5d3"
      },
      "execution_count": 3,
      "outputs": [
        {
          "output_type": "stream",
          "name": "stdout",
          "text": [
            "Digite um número: 19\n",
            "O número é ímpar.\n"
          ]
        }
      ]
    },
    {
      "cell_type": "markdown",
      "source": [
        "Exercício 4: Contagem Regressiva\n",
        "Crie um programa que imprima uma contagem regressiva de 10 a 1.\n"
      ],
      "metadata": {
        "id": "nzSLWyYB_cGX"
      }
    },
    {
      "cell_type": "code",
      "source": [
        "contagem = 10\n",
        "while contagem >= 1:\n",
        "    print(contagem)\n",
        "    contagem -= 1"
      ],
      "metadata": {
        "colab": {
          "base_uri": "https://localhost:8080/"
        },
        "id": "ElJtCQCR_cgY",
        "outputId": "25852670-60ab-4e33-fe66-6bc3d978d0d6"
      },
      "execution_count": 4,
      "outputs": [
        {
          "output_type": "stream",
          "name": "stdout",
          "text": [
            "10\n",
            "9\n",
            "8\n",
            "7\n",
            "6\n",
            "5\n",
            "4\n",
            "3\n",
            "2\n",
            "1\n"
          ]
        }
      ]
    },
    {
      "cell_type": "markdown",
      "source": [
        "Exercício 5: Números de 1 a 10\n",
        "Escreva um programa que exiba os números de 1 a 10 em uma linha, separados por vírgulas.\n"
      ],
      "metadata": {
        "id": "a3B5Pxoo_c7H"
      }
    },
    {
      "cell_type": "code",
      "source": [
        "numeros = \"\"\n",
        "for i in range(1, 11):\n",
        "    numeros += str(i)\n",
        "    if i < 10:\n",
        "        numeros += \", \"\n",
        "print(numeros)"
      ],
      "metadata": {
        "colab": {
          "base_uri": "https://localhost:8080/"
        },
        "id": "HY2ZQYLC_dYH",
        "outputId": "918c88ea-68d3-485b-86d2-42cbef7ed122"
      },
      "execution_count": 5,
      "outputs": [
        {
          "output_type": "stream",
          "name": "stdout",
          "text": [
            "1, 2, 3, 4, 5, 6, 7, 8, 9, 10\n"
          ]
        }
      ]
    },
    {
      "cell_type": "markdown",
      "source": [
        "Exercício 6: Calculadora Simples\n",
        "Crie uma calculadora simples que permita ao usuário escolher uma operação (adição, subtração, multiplicação, divisão) e realizar a operação com dois números.\n"
      ],
      "metadata": {
        "id": "ndStvg1h_rie"
      }
    },
    {
      "cell_type": "code",
      "source": [
        "calculadora = input(\"Digite a operação que deseja realizar (+, -, *, /): \")\n",
        "num1 = float(input(\"Digite o primeiro número: \"))\n",
        "num2 = float(input(\"Digite o segundo número: \"))\n",
        "if calculadora == \"+\":\n",
        "    resultado = num1 + num2\n",
        "    print(\"Resultado:\", resultado)\n",
        "elif calculadora == \"-\":\n",
        "    resultado = num1 - num2\n",
        "    print(\"Resultado:\", resultado)\n",
        "elif calculadora == \"*\":\n",
        "    resultado = num1 * num2\n",
        "    print(\"Resultado:\", resultado)\n",
        "elif calculadora == \"/\":\n",
        "    if num2 != 0:\n",
        "        resultado = num1 / num2\n",
        "        print(\"Resultado:\", resultado)\n",
        "    else:\n",
        "        print(\"Divisão por zero não é permitida.\")\n",
        "else:\n",
        "    print(\"Operação inválida.\")\n"
      ],
      "metadata": {
        "colab": {
          "base_uri": "https://localhost:8080/"
        },
        "id": "z3SajG2x_sro",
        "outputId": "5ce92005-60b6-4dc3-ee4c-4a5efcce493b"
      },
      "execution_count": 9,
      "outputs": [
        {
          "output_type": "stream",
          "name": "stdout",
          "text": [
            "Digite a operação que deseja realizar (+, -, *, /): *\n",
            "Digite o primeiro número: 12\n",
            "Digite o segundo número: 144\n",
            "Resultado: 1728.0\n"
          ]
        }
      ]
    },
    {
      "cell_type": "markdown",
      "source": [
        "Exercício 7: Lista de Frutas\n",
        "Crie uma lista com cinco frutas e exiba cada uma delas em uma linha separada.\n"
      ],
      "metadata": {
        "id": "847wbgaF_toX"
      }
    },
    {
      "cell_type": "code",
      "source": [
        "frutas = [\"maçã\", \"banana\", \"laranja\", \"uva\", \"abacaxi\"]\n",
        "for fruta in frutas:\n",
        "    print(fruta)"
      ],
      "metadata": {
        "colab": {
          "base_uri": "https://localhost:8080/"
        },
        "id": "K90Et1Jx_uFw",
        "outputId": "4d2d2a81-efef-475d-a939-02093d1b63b3"
      },
      "execution_count": 10,
      "outputs": [
        {
          "output_type": "stream",
          "name": "stdout",
          "text": [
            "maçã\n",
            "banana\n",
            "laranja\n",
            "uva\n",
            "abacaxi\n"
          ]
        }
      ]
    },
    {
      "cell_type": "markdown",
      "source": [
        "Exercício 8: Fatorial\n",
        "\n",
        "Peça ao usuário para inserir um número e calcule o fatorial desse número."
      ],
      "metadata": {
        "id": "IfTSiLSk_2N3"
      }
    },
    {
      "cell_type": "code",
      "source": [
        "fatorial = int(input(\"Digite um número: \"))\n",
        "resultado = 1\n",
        "for i in range(1, fatorial + 1):\n",
        "    resultado *= i\n",
        "print(\"O fatorial de\", fatorial, \"é\", resultado)"
      ],
      "metadata": {
        "colab": {
          "base_uri": "https://localhost:8080/"
        },
        "id": "lSQLkhvG_wFH",
        "outputId": "5fe72091-4efb-4022-ea4a-e67822608f40"
      },
      "execution_count": 11,
      "outputs": [
        {
          "output_type": "stream",
          "name": "stdout",
          "text": [
            "Digite um número: 9\n",
            "O fatorial de 9 é 362880\n"
          ]
        }
      ]
    },
    {
      "cell_type": "markdown",
      "source": [
        "Exercício 9: Palíndromo\n",
        "\n",
        "Peça ao usuário para inserir uma palavra e verifique se ela é um palíndromo (lê-se igual de trás para frente).\n"
      ],
      "metadata": {
        "id": "cDQ0l7aB_8T_"
      }
    },
    {
      "cell_type": "code",
      "source": [
        "palavra = input(\"Digite uma palavra: \")\n",
        "if palavra == palavra[::-1]:\n",
        "    print(\"A palavra é um palíndromo.\")\n",
        "else:\n",
        "    print(\"A palavra não é um palíndromo.\")"
      ],
      "metadata": {
        "colab": {
          "base_uri": "https://localhost:8080/"
        },
        "id": "tsfdf7dX_9YP",
        "outputId": "64ec73ec-430f-497d-f06e-f88fd14656ae"
      },
      "execution_count": 12,
      "outputs": [
        {
          "output_type": "stream",
          "name": "stdout",
          "text": [
            "Digite uma palavra: teste\n",
            "A palavra não é um palíndromo.\n"
          ]
        }
      ]
    },
    {
      "cell_type": "markdown",
      "source": [
        "Exercício 10: Números Primos\n",
        "\n",
        "Crie um programa que verifique se um número inserido pelo usuário é primo.\n"
      ],
      "metadata": {
        "id": "fPiZxlBE___4"
      }
    },
    {
      "cell_type": "code",
      "source": [
        "numero = int(input(\"Digite um número: \"))\n",
        "if numero > 1:\n",
        "  for i in range(2, numero):\n",
        "    if (numero % i) == 0:\n",
        "      print(numero, \"não é um número primo\")\n",
        "      break\n",
        "  else:\n",
        "    print(numero, \"é um número primo\")\n",
        "else:\n",
        "  print(numero, \"não é um número primo\")"
      ],
      "metadata": {
        "colab": {
          "base_uri": "https://localhost:8080/"
        },
        "id": "ux7PV33IAAop",
        "outputId": "5bb96381-aae3-47c7-8aa5-12df953afb48"
      },
      "execution_count": 14,
      "outputs": [
        {
          "output_type": "stream",
          "name": "stdout",
          "text": [
            "Digite um número: 85\n",
            "85 não é um número primo\n"
          ]
        }
      ]
    },
    {
      "cell_type": "markdown",
      "source": [
        "Exercício 11: Calcule a soma dos números do 10 ao 14."
      ],
      "metadata": {
        "id": "-SlwTxA0ACch"
      }
    },
    {
      "cell_type": "code",
      "source": [
        "(10+11+12+13+14) ou sum([10,11,12,13,14])"
      ],
      "metadata": {
        "id": "75Re5OcaAMEX"
      },
      "execution_count": null,
      "outputs": []
    },
    {
      "cell_type": "markdown",
      "source": [
        "Exercício 12: Calcule a média entre os números 10.15.20"
      ],
      "metadata": {
        "id": "RSb6RAhSANO-"
      }
    },
    {
      "cell_type": "code",
      "source": [
        "(10+15+20)/3"
      ],
      "metadata": {
        "colab": {
          "base_uri": "https://localhost:8080/"
        },
        "id": "410I6DOlANqC",
        "outputId": "517e9a0c-77ae-4878-a579-9aeb5838dacd"
      },
      "execution_count": 15,
      "outputs": [
        {
          "output_type": "execute_result",
          "data": {
            "text/plain": [
              "15.0"
            ]
          },
          "metadata": {},
          "execution_count": 15
        }
      ]
    },
    {
      "cell_type": "markdown",
      "source": [
        "Exercício 13: Peça para o usuário digitar duas notas de zero a dez e os pesos das notas, e também calcule a média entre eles.\n",
        "Exemplo : media=(nota1*peso1+nota2*peso2)/(peso1+peso2)\n",
        "Lembrando que a soma dos pesos precisa ser 10.\n"
      ],
      "metadata": {
        "id": "QoVkExWsAULP"
      }
    },
    {
      "cell_type": "code",
      "source": [
        "nota1 = float(input('Digite a primeira nota: '))\n",
        "nota2 = float(input('Digite a segunda nota: '))\n",
        "peso1 = float(input('Digite o peso da primeira nota: '))\n",
        "peso2 = float(input('Digite o peso da segunda nota: '))\n",
        "\n",
        "media = (nota1 * peso1 + nota2 * peso2) / (peso1 + peso2)\n",
        "print(f'A média final é: {media:.2f}')\n"
      ],
      "metadata": {
        "colab": {
          "base_uri": "https://localhost:8080/"
        },
        "id": "XaEuyrC8AVEe",
        "outputId": "60806d2f-d8ac-4d93-aeb6-d03b47e3c4b6"
      },
      "execution_count": 16,
      "outputs": [
        {
          "output_type": "stream",
          "name": "stdout",
          "text": [
            "Digite a primeira nota: 10\n",
            "Digite a segunda nota: 10\n",
            "Digite o peso da primeira nota: 8\n",
            "Digite o peso da segunda nota: 9\n",
            "A média final é: 10.00\n"
          ]
        }
      ]
    },
    {
      "cell_type": "markdown",
      "source": [
        "Exercício 14: Qual o menor preço dessa lista?\n",
        "\n",
        "Preços: R$100.20, R$34.90, R$31.50, R$18.95\n"
      ],
      "metadata": {
        "id": "5SVTlCKtAe_n"
      }
    },
    {
      "cell_type": "code",
      "source": [
        "min([100.20, 34.90, 31.50, 18.95])"
      ],
      "metadata": {
        "colab": {
          "base_uri": "https://localhost:8080/"
        },
        "id": "XCblq5gWAlao",
        "outputId": "0692c119-3ec4-4574-91aa-fb3c2aa50fcb"
      },
      "execution_count": 17,
      "outputs": [
        {
          "output_type": "execute_result",
          "data": {
            "text/plain": [
              "18.95"
            ]
          },
          "metadata": {},
          "execution_count": 17
        }
      ]
    },
    {
      "cell_type": "markdown",
      "source": [
        "Exercício 15: Avalie se o número digitado pelo usuário é par ou impar. Se for par a saída deve mostrar True e se form ímpar deverá mostrar False."
      ],
      "metadata": {
        "id": "kASxskUZAp0P"
      }
    },
    {
      "cell_type": "code",
      "source": [
        "numero = int(input('Digite um número: '))\n",
        "print(numero % 2 == 0)\n"
      ],
      "metadata": {
        "colab": {
          "base_uri": "https://localhost:8080/"
        },
        "id": "YwkKV5CxAsf-",
        "outputId": "95c0f93b-a726-41cf-bd9f-f491db80a093"
      },
      "execution_count": 18,
      "outputs": [
        {
          "output_type": "stream",
          "name": "stdout",
          "text": [
            "Digite um número: 56\n",
            "True\n"
          ]
        }
      ]
    },
    {
      "cell_type": "markdown",
      "source": [
        "Exercício 16: Verifique se o menor preço dessa lista é menor que R$20,00\n",
        "\n",
        "Preços: R$100.20, R$34.90, R$31.50, R$18.95\n"
      ],
      "metadata": {
        "id": "cdkEjjAPAvWL"
      }
    },
    {
      "cell_type": "code",
      "source": [
        "precos = [100.20, 34.90, 31.50, 18.95]\n",
        "menor_preco = min(precos)\n",
        "print(menor_preco < 20.00)\n"
      ],
      "metadata": {
        "colab": {
          "base_uri": "https://localhost:8080/"
        },
        "id": "JDfudLgOAwcX",
        "outputId": "1fa628fb-7528-43b0-864b-cf02876388fd"
      },
      "execution_count": 19,
      "outputs": [
        {
          "output_type": "stream",
          "name": "stdout",
          "text": [
            "True\n"
          ]
        }
      ]
    },
    {
      "cell_type": "markdown",
      "source": [
        "Exercício 17: Faça um programa que converta a temperatura em graus Fahrenheit fornecido pelo usuário em graus Celsius.\n",
        "\n",
        "Celsius = (5/9)*(Fahrenheit-32)\n"
      ],
      "metadata": {
        "id": "0y0Pou9GA1WE"
      }
    },
    {
      "cell_type": "code",
      "source": [
        "fahrenheit = float(input('Digite a temperatura em Fahrenheit: '))\n",
        "celsius = (5/9) * (fahrenheit - 32)\n",
        "print(f'A temperatura em Celsius é: {celsius:.2f}')\n"
      ],
      "metadata": {
        "colab": {
          "base_uri": "https://localhost:8080/"
        },
        "id": "1GKXv_9MA3wP",
        "outputId": "4d51e34a-9203-4dfd-a32f-ef4e8b1d8793"
      },
      "execution_count": 20,
      "outputs": [
        {
          "output_type": "stream",
          "name": "stdout",
          "text": [
            "Digite a temperatura em Fahrenheit: 19\n",
            "A temperatura em Celsius é: -7.22\n"
          ]
        }
      ]
    },
    {
      "cell_type": "markdown",
      "source": [
        "Exercício 18: Crie um jogo simples onde o computador escolhe um número aleatório de 1 a 100 e o usuário deve adivinhá-lo.\n"
      ],
      "metadata": {
        "id": "ciLJsrmHA4R3"
      }
    },
    {
      "cell_type": "code",
      "source": [
        "import random\n",
        "\n",
        "def jogo_adivinhacao():\n",
        "    numero_secreto = random.randint(1, 100)\n",
        "    tentativas = 0\n",
        "    print(\"Bem-vindo ao jogo de adivinhação!\")\n",
        "    print(\"Eu escolhi um número entre 1 e 100. Tente adivinhá-lo!\")\n",
        "\n",
        "    while True:\n",
        "        palpite = input(\"Insira seu palpite (ou 'sair' para encerrar): \")\n",
        "\n",
        "        if palpite.lower() == 'sair':\n",
        "            print(\"Obrigado por jogar! O número era:\", numero_secreto)\n",
        "            break\n",
        "\n",
        "        try:\n",
        "            palpite = int(palpite)\n",
        "            tentativas += 1\n",
        "\n",
        "            if palpite < numero_secreto:\n",
        "                print(\"Muito baixo! Tente novamente.\")\n",
        "            elif palpite > numero_secreto:\n",
        "                print(\"Muito alto! Tente novamente.\")\n",
        "            else:\n",
        "                print(f\"Parabéns! Você adivinhou o número em {tentativas} tentativas.\")\n",
        "                break\n",
        "        except ValueError:\n",
        "            print(\"Por favor, insira um número válido.\")\n",
        "\n",
        "jogo_adivinhacao()\n",
        "\n"
      ],
      "metadata": {
        "colab": {
          "base_uri": "https://localhost:8080/"
        },
        "id": "GWT7SALaGvue",
        "outputId": "2e77227b-1d89-45d0-d456-b4bf49b66252"
      },
      "execution_count": 22,
      "outputs": [
        {
          "output_type": "stream",
          "name": "stdout",
          "text": [
            "Bem-vindo ao jogo de adivinhação!\n",
            "Eu escolhi um número entre 1 e 100. Tente adivinhá-lo!\n",
            "Insira seu palpite (ou 'sair' para encerrar): 86\n",
            "Muito alto! Tente novamente.\n",
            "Insira seu palpite (ou 'sair' para encerrar): 35\n",
            "Muito alto! Tente novamente.\n",
            "Insira seu palpite (ou 'sair' para encerrar): 12\n",
            "Muito baixo! Tente novamente.\n",
            "Insira seu palpite (ou 'sair' para encerrar): 20\n",
            "Muito alto! Tente novamente.\n",
            "Insira seu palpite (ou 'sair' para encerrar): 18\n",
            "Muito baixo! Tente novamente.\n",
            "Insira seu palpite (ou 'sair' para encerrar): 19\n",
            "Parabéns! Você adivinhou o número em 6 tentativas.\n"
          ]
        }
      ]
    }
  ],
  "metadata": {
    "colab": {
      "provenance": []
    },
    "kernelspec": {
      "display_name": "Python 3",
      "name": "python3"
    },
    "language_info": {
      "name": "python"
    }
  },
  "nbformat": 4,
  "nbformat_minor": 0
}